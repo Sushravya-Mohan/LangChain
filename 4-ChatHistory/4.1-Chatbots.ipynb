{
 "cells": [
  {
   "cell_type": "code",
   "execution_count": 1,
   "metadata": {},
   "outputs": [],
   "source": [
    "import os\n",
    "from dotenv import load_dotenv\n",
    "load_dotenv()\n",
    "\n",
    "groq_api_key = os.getenv('GROQ_API_KEY')"
   ]
  },
  {
   "cell_type": "code",
   "execution_count": 2,
   "metadata": {},
   "outputs": [
    {
     "data": {
      "text/plain": [
       "ChatGroq(client=<groq.resources.chat.completions.Completions object at 0x000002B6ECB26320>, async_client=<groq.resources.chat.completions.AsyncCompletions object at 0x000002B6ECB501C0>, model_name='Gemma2-9b-It', model_kwargs={}, groq_api_key=SecretStr('**********'))"
      ]
     },
     "execution_count": 2,
     "metadata": {},
     "output_type": "execute_result"
    }
   ],
   "source": [
    "from langchain_groq import ChatGroq\n",
    "model = ChatGroq(model='Gemma2-9b-It', groq_api_key=groq_api_key)\n",
    "model"
   ]
  },
  {
   "cell_type": "code",
   "execution_count": null,
   "metadata": {},
   "outputs": [
    {
     "data": {
      "text/plain": [
       "AIMessage(content=\"Hi Sushravya,\\n\\nIt's great to meet you! I'm glad you're interested in Generative AI. It's a fascinating field with a lot of potential.  \\n\\nWhat aspects of Generative AI particularly interest you? Are you working on any projects yourself? I'd love to hear more about your enthusiasm!\\n\", additional_kwargs={}, response_metadata={'token_usage': {'completion_tokens': 73, 'prompt_tokens': 25, 'total_tokens': 98, 'completion_time': 0.132727273, 'prompt_time': 0.000169729, 'queue_time': 0.01400598, 'total_time': 0.132897002}, 'model_name': 'Gemma2-9b-It', 'system_fingerprint': 'fp_10c08bf97d', 'finish_reason': 'stop', 'logprobs': None}, id='run-74f79e31-281e-4ad4-b099-cf60ff607a2d-0', usage_metadata={'input_tokens': 25, 'output_tokens': 73, 'total_tokens': 98})"
      ]
     },
     "execution_count": 3,
     "metadata": {},
     "output_type": "execute_result"
    }
   ],
   "source": [
    "from langchain_core.messages import HumanMessage\n",
    "model.invoke([HumanMessage(content=\"Hi. My name is Sushravya and I am a Gen AI enthusiast.\")])"
   ]
  },
  {
   "cell_type": "code",
   "execution_count": 7,
   "metadata": {},
   "outputs": [
    {
     "data": {
      "text/plain": [
       "AIMessage(content=\"You said your name is Sushravya and that you are a Gen AI enthusiast!  😊 \\n\\nIs there anything else you'd like to tell me about yourself or ask me? I'm here to chat. 🤖  \\n\\n\", additional_kwargs={}, response_metadata={'token_usage': {'completion_tokens': 52, 'prompt_tokens': 119, 'total_tokens': 171, 'completion_time': 0.094545455, 'prompt_time': 0.00345661, 'queue_time': 0.011990586999999999, 'total_time': 0.098002065}, 'model_name': 'Gemma2-9b-It', 'system_fingerprint': 'fp_10c08bf97d', 'finish_reason': 'stop', 'logprobs': None}, id='run-8607959f-0c61-4413-89e4-0c4ce122856c-0', usage_metadata={'input_tokens': 119, 'output_tokens': 52, 'total_tokens': 171})"
      ]
     },
     "execution_count": 7,
     "metadata": {},
     "output_type": "execute_result"
    }
   ],
   "source": [
    "from langchain_core.messages import AIMessage\n",
    "model.invoke(\n",
    "    [\n",
    "        HumanMessage(content=\"Hi. My name is Sushravya and I am a Gen AI enthusiast.\"),\n",
    "        AIMessage(content=\"Hi Sushravya,\\n\\nIt's great to meet you! I'm glad you're interested in Generative AI. It's a fascinating field with a lot of potential.  \\n\\nWhat aspects of Generative AI particularly interest you? Are you working on any projects yourself? I'd love to hear more about your enthusiasm!\"),\n",
    "        HumanMessage(content=\"Hey. What's my name and what am I interested in?\")\n",
    "    ]\n",
    ")"
   ]
  },
  {
   "cell_type": "code",
   "execution_count": null,
   "metadata": {},
   "outputs": [],
   "source": [
    "from langchain_community.chat_message_histories import ChatMessageHistory\n",
    "from langchain_core.chat_history import BaseChatMessageHistory\n",
    "from langchain_core.runnables.history import RunnableWithMessageHistory\n",
    "\n",
    "store = {}\n",
    "\n",
    "def get_session_history(session_id: str) -> BaseChatMessageHistory:\n",
    "    if session_id not in store:\n",
    "        store[session_id] = ChatMessageHistory()\n",
    "    return store[session_id]\n",
    "\n",
    "with_message_history = RunnableWithMessageHistory(model, get_session_history)"
   ]
  },
  {
   "cell_type": "code",
   "execution_count": null,
   "metadata": {},
   "outputs": [],
   "source": []
  }
 ],
 "metadata": {
  "kernelspec": {
   "display_name": "venv",
   "language": "python",
   "name": "python3"
  },
  "language_info": {
   "codemirror_mode": {
    "name": "ipython",
    "version": 3
   },
   "file_extension": ".py",
   "mimetype": "text/x-python",
   "name": "python",
   "nbconvert_exporter": "python",
   "pygments_lexer": "ipython3",
   "version": "3.10.0"
  }
 },
 "nbformat": 4,
 "nbformat_minor": 2
}
